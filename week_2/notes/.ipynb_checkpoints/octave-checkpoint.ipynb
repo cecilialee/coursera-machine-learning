{
 "cells": [
  {
   "cell_type": "markdown",
   "metadata": {},
   "source": [
    "# Octave"
   ]
  },
  {
   "cell_type": "markdown",
   "metadata": {},
   "source": [
    "## Basic Operations"
   ]
  },
  {
   "cell_type": "markdown",
   "metadata": {},
   "source": [
    "### Operators"
   ]
  },
  {
   "cell_type": "code",
   "execution_count": 57,
   "metadata": {},
   "outputs": [
    {
     "name": "stdout",
     "output_type": "stream",
     "text": [
      "ans = 1\n",
      "ans = 0\n"
     ]
    }
   ],
   "source": [
    "% Equal\n",
    "1 == 1\n",
    "\n",
    "% Not Equal\n",
    "1 ~= 1"
   ]
  },
  {
   "cell_type": "code",
   "execution_count": 58,
   "metadata": {},
   "outputs": [
    {
     "name": "stdout",
     "output_type": "stream",
     "text": [
      "ans = 0\n",
      "ans = 1\n"
     ]
    }
   ],
   "source": [
    "% And\n",
    "1 && 0\n",
    "\n",
    "% Or\n",
    "1 || 0"
   ]
  },
  {
   "cell_type": "markdown",
   "metadata": {},
   "source": [
    "### Assignments"
   ]
  },
  {
   "cell_type": "code",
   "execution_count": 59,
   "metadata": {},
   "outputs": [
    {
     "name": "stdout",
     "output_type": "stream",
     "text": [
      "a =  1\n",
      "b = hi\n",
      "c = 1\n"
     ]
    }
   ],
   "source": [
    "% Number\n",
    "a = 1\n",
    "\n",
    "% String\n",
    "b = 'hi'\n",
    "\n",
    "% Logical\n",
    "c = (3>=1)"
   ]
  },
  {
   "cell_type": "markdown",
   "metadata": {},
   "source": [
    "### Display and Format"
   ]
  },
  {
   "cell_type": "code",
   "execution_count": 60,
   "metadata": {},
   "outputs": [
    {
     "name": "stdout",
     "output_type": "stream",
     "text": [
      " 3.1416\n"
     ]
    }
   ],
   "source": [
    "% Display\n",
    "a = pi;\n",
    "disp(a);"
   ]
  },
  {
   "cell_type": "code",
   "execution_count": null,
   "metadata": {},
   "outputs": [],
   "source": [
    "% Print\n",
    "disp(sprintf('2 decimals: %0.2f', a))\n",
    "disp(sprintf('6 decimals: %0.6f', a))"
   ]
  },
  {
   "cell_type": "code",
   "execution_count": 61,
   "metadata": {},
   "outputs": [
    {
     "name": "stdout",
     "output_type": "stream",
     "text": [
      "a =  3.141592653589793\n",
      "a =  3.1416\n"
     ]
    }
   ],
   "source": [
    "% Format\n",
    "format long\n",
    "a\n",
    "\n",
    "format short\n",
    "a"
   ]
  },
  {
   "cell_type": "markdown",
   "metadata": {},
   "source": [
    "### Create Matrices and Vectors"
   ]
  },
  {
   "cell_type": "markdown",
   "metadata": {},
   "source": [
    "#### Basic Matrices"
   ]
  },
  {
   "cell_type": "code",
   "execution_count": 69,
   "metadata": {},
   "outputs": [
    {
     "name": "stdout",
     "output_type": "stream",
     "text": [
      "A =\n",
      "\n",
      "   1   2\n",
      "   3   4\n",
      "   5   6\n",
      "\n"
     ]
    }
   ],
   "source": [
    "% Matrix\n",
    "A = [1 2; 3 4; 5 6]"
   ]
  },
  {
   "cell_type": "markdown",
   "metadata": {},
   "source": [
    "#### Basic Vectors"
   ]
  },
  {
   "cell_type": "code",
   "execution_count": 70,
   "metadata": {},
   "outputs": [
    {
     "name": "stdout",
     "output_type": "stream",
     "text": [
      "v =\n",
      "\n",
      "   1   2   3\n",
      "\n"
     ]
    }
   ],
   "source": [
    "% Row Vector\n",
    "v = [1 2 3]"
   ]
  },
  {
   "cell_type": "code",
   "execution_count": 71,
   "metadata": {},
   "outputs": [
    {
     "name": "stdout",
     "output_type": "stream",
     "text": [
      "v =\n",
      "\n",
      "   1\n",
      "   2\n",
      "   3\n",
      "\n"
     ]
    }
   ],
   "source": [
    "% Column Vector\n",
    "v = [1;2;3]"
   ]
  },
  {
   "cell_type": "code",
   "execution_count": 72,
   "metadata": {},
   "outputs": [
    {
     "name": "stdout",
     "output_type": "stream",
     "text": [
      "v =\n",
      "\n",
      "   1   2   3   4   5   6\n",
      "\n",
      "v =\n",
      "\n",
      " Columns 1 through 8:\n",
      "\n",
      "    1.0000    1.1000    1.2000    1.3000    1.4000    1.5000    1.6000    1.7000\n",
      "\n",
      " Columns 9 through 11:\n",
      "\n",
      "    1.8000    1.9000    2.0000\n",
      "\n"
     ]
    }
   ],
   "source": [
    "% Vector in Sequence\n",
    "v = 1:6\n",
    "v = 1:0.1:2"
   ]
  },
  {
   "cell_type": "markdown",
   "metadata": {},
   "source": [
    "#### Special Matrices"
   ]
  },
  {
   "cell_type": "code",
   "execution_count": 73,
   "metadata": {},
   "outputs": [
    {
     "name": "stdout",
     "output_type": "stream",
     "text": [
      "ans =\n",
      "\n",
      "   1   1   1\n",
      "   1   1   1\n",
      "\n"
     ]
    }
   ],
   "source": [
    "% One Matrix\n",
    "ones(2,3)\n",
    "2 * ones(2,3)"
   ]
  },
  {
   "cell_type": "code",
   "execution_count": 75,
   "metadata": {},
   "outputs": [
    {
     "name": "stdout",
     "output_type": "stream",
     "text": [
      "ans =\n",
      "\n",
      "   0   0   0\n",
      "   0   0   0\n",
      "   0   0   0\n",
      "   0   0   0\n",
      "\n"
     ]
    }
   ],
   "source": [
    "% Zero Matrix\n",
    "zeros(4,3)"
   ]
  },
  {
   "cell_type": "code",
   "execution_count": 76,
   "metadata": {},
   "outputs": [
    {
     "name": "stdout",
     "output_type": "stream",
     "text": [
      "ans =\n",
      "\n",
      "   0.92969   0.80242   0.38825\n",
      "   0.15819   0.69090   0.34016\n",
      "   0.77204   0.72714   0.96088\n",
      "\n",
      "ans =\n",
      "\n",
      "  -1.010206   0.581498  -3.592705\n",
      "  -0.294344   2.077031   1.720689\n",
      "   0.111758  -0.074986  -0.688507\n",
      "\n"
     ]
    }
   ],
   "source": [
    "% Random Matrix\n",
    "rand(3,3)\n",
    "randn(3,3)"
   ]
  },
  {
   "cell_type": "code",
   "execution_count": 77,
   "metadata": {},
   "outputs": [
    {
     "data": {
      "image/png": "[encoded data removed]",
      "text/plain": [
       "<IPython.core.display.Image object>"
      ]
     },
     "metadata": {},
     "output_type": "display_data"
    }
   ],
   "source": [
    "% Histogram of Matrix\n",
    "w = -6 + sqrt(10)*(randn(1,100000));\n",
    "hist(w,50);"
   ]
  },
  {
   "cell_type": "code",
   "execution_count": 78,
   "metadata": {},
   "outputs": [
    {
     "name": "stdout",
     "output_type": "stream",
     "text": [
      "ans =\n",
      "\n",
      "Diagonal Matrix\n",
      "\n",
      "   1   0   0   0\n",
      "   0   1   0   0\n",
      "   0   0   1   0\n",
      "   0   0   0   1\n",
      "\n"
     ]
    }
   ],
   "source": [
    "% Identity Matrix\n",
    "eye(4)"
   ]
  },
  {
   "cell_type": "markdown",
   "metadata": {},
   "source": [
    "## Moving Data Around"
   ]
  },
  {
   "cell_type": "markdown",
   "metadata": {},
   "source": [
    "### Object Dimensions"
   ]
  },
  {
   "cell_type": "markdown",
   "metadata": {},
   "source": [
    "#### Matrix"
   ]
  },
  {
   "cell_type": "code",
   "execution_count": 79,
   "metadata": {},
   "outputs": [
    {
     "name": "stdout",
     "output_type": "stream",
     "text": [
      "A =\n",
      "\n",
      "   1   2\n",
      "   3   4\n",
      "   5   6\n",
      "\n",
      "ans =\n",
      "\n",
      "   3   2\n",
      "\n"
     ]
    }
   ],
   "source": [
    "% Matrix Size\n",
    "A\n",
    "size(A)"
   ]
  },
  {
   "cell_type": "code",
   "execution_count": 174,
   "metadata": {},
   "outputs": [
    {
     "name": "stdout",
     "output_type": "stream",
     "text": [
      "sz =\n",
      "\n",
      "   3   2\n",
      "\n",
      "ans =\n",
      "\n",
      "   1   2\n",
      "\n"
     ]
    }
   ],
   "source": [
    "% Size of Size\n",
    "sz = size(A)\n",
    "size(sz)"
   ]
  },
  {
   "cell_type": "code",
   "execution_count": 80,
   "metadata": {},
   "outputs": [
    {
     "name": "stdout",
     "output_type": "stream",
     "text": [
      "ans =  3\n",
      "ans =  2\n"
     ]
    }
   ],
   "source": [
    "% Dimension of Size \n",
    "size(A,1) \n",
    "size(A,2) "
   ]
  },
  {
   "cell_type": "markdown",
   "metadata": {},
   "source": [
    "#### Vector"
   ]
  },
  {
   "cell_type": "code",
   "execution_count": 81,
   "metadata": {},
   "outputs": [
    {
     "name": "stdout",
     "output_type": "stream",
     "text": [
      "v =\n",
      "\n",
      "   1   2   3   4\n",
      "\n",
      "ans =  4\n",
      "v =\n",
      "\n",
      "   1\n",
      "   2\n",
      "   3\n",
      "   4\n",
      "\n",
      "ans =  4\n"
     ]
    }
   ],
   "source": [
    "% Vector Length\n",
    "v = [1 2 3 4]\n",
    "length(v)\n",
    "v = [1;2;3;4]\n",
    "length(v)"
   ]
  },
  {
   "cell_type": "markdown",
   "metadata": {},
   "source": [
    "### Environment"
   ]
  },
  {
   "cell_type": "code",
   "execution_count": 177,
   "metadata": {},
   "outputs": [
    {
     "name": "stdout",
     "output_type": "stream",
     "text": [
      "ans = /Users/ct41583/Downloads\n"
     ]
    }
   ],
   "source": [
    "% Current Working Directory\n",
    "pwd"
   ]
  },
  {
   "cell_type": "code",
   "execution_count": 178,
   "metadata": {},
   "outputs": [],
   "source": [
    "% Change Working Directory\n",
    "cd '/Users/ct41583/Desktop'\n",
    "cd '/Users/ct41583/Downloads'"
   ]
  },
  {
   "cell_type": "code",
   "execution_count": 179,
   "metadata": {},
   "outputs": [
    {
     "name": "stdout",
     "output_type": "stream",
     "text": [
      "Rplot.png\t\t\t\tT4340_Lee Hoi Shan Cecilia.xlsx\n",
      "Rplot01.png\t\t\t\tVSCode-darwin-stable.zip\n",
      "Screenshot 2019-06-26 at 5.34.44 PM.png\tcodes\n",
      "Screenshot 2019-06-26 at 5.34.57 PM.png\toctave.ipynb\n",
      "Screenshot 2019-06-26 at 5.35.10 PM.png\toctave.md\n",
      "Screenshot 2019-06-27 at 9.14.52 AM.png\tx.mat\n",
      "T4340_Lee Hoi Shan Cecilia (1).xlsx\n"
     ]
    }
   ],
   "source": [
    "% List Files\n",
    "ls"
   ]
  },
  {
   "cell_type": "code",
   "execution_count": 82,
   "metadata": {},
   "outputs": [
    {
     "name": "stdout",
     "output_type": "stream",
     "text": [
      "Variables in the current scope:\n",
      "\n",
      "A         ans       c         indices   t         w         y2\n",
      "a         b         i         indicies  v         y1\n",
      "\n",
      "Variables in the current scope:\n",
      "\n",
      "   Attr Name          Size                     Bytes  Class\n",
      "   ==== ====          ====                     =====  ===== \n",
      "        A             3x2                         48  double\n",
      "        a             1x1                          8  double\n",
      "        ans           1x1                          8  double\n",
      "        b             1x2                          2  char\n",
      "        c             1x1                          1  logical\n",
      "        i             1x1                          8  double\n",
      "        indices       1x10                        24  double\n",
      "        indicies      1x10                        24  double\n",
      "        t             1x99                       792  double\n",
      "        v             4x1                         32  double\n",
      "        w             1x100000                800000  double\n",
      "        y1            1x99                       792  double\n",
      "        y2            1x99                       792  double\n",
      "\n",
      "Total is 100333 elements using 802531 bytes\n",
      "\n"
     ]
    }
   ],
   "source": [
    "% List Environment Variables\n",
    "who\n",
    "whos"
   ]
  },
  {
   "cell_type": "markdown",
   "metadata": {},
   "source": [
    "### Load and Save Data"
   ]
  },
  {
   "cell_type": "markdown",
   "metadata": {},
   "source": [
    "#### Save Data"
   ]
  },
  {
   "cell_type": "code",
   "execution_count": 83,
   "metadata": {},
   "outputs": [
    {
     "name": "stdout",
     "output_type": "stream",
     "text": [
      "X =\n",
      "\n",
      "    682      7\n",
      "    945      8\n",
      "    742      7\n",
      "    848      6\n",
      "   1657      7\n",
      "    531      3\n",
      "    441      5\n",
      "      9      8\n",
      "   1802      1\n",
      "   1859      2\n",
      "   1385      7\n",
      "    247      3\n",
      "    139      9\n",
      "    861      8\n",
      "   1270      2\n",
      "    596      4\n",
      "   1990      2\n",
      "    471      9\n",
      "   1568      1\n",
      "    534      4\n",
      "\n"
     ]
    }
   ],
   "source": [
    "% Save Data\n",
    "X = [round(rand(20,1)*2000), round(rand(20,1)*10)]\n",
    "save x.mat X"
   ]
  },
  {
   "cell_type": "markdown",
   "metadata": {},
   "source": [
    "#### Clear Environment"
   ]
  },
  {
   "cell_type": "code",
   "execution_count": 84,
   "metadata": {},
   "outputs": [
    {
     "name": "stdout",
     "output_type": "stream",
     "text": [
      "Variables in the current scope:\n",
      "\n",
      "A         a         b         i         indicies  v         y1\n",
      "X         ans       c         indices   t         w         y2\n",
      "\n",
      "Variables in the current scope:\n",
      "\n",
      "A         ans       c         indices   t         w         y2\n",
      "X         b         i         indicies  v         y1\n",
      "\n"
     ]
    }
   ],
   "source": [
    "% Remove a Single Object\n",
    "who\n",
    "clear a\n",
    "who"
   ]
  },
  {
   "cell_type": "code",
   "execution_count": 85,
   "metadata": {},
   "outputs": [],
   "source": [
    "% Remove All Objects\n",
    "clear\n",
    "who"
   ]
  },
  {
   "cell_type": "markdown",
   "metadata": {},
   "source": [
    "#### Load Data"
   ]
  },
  {
   "cell_type": "code",
   "execution_count": 86,
   "metadata": {},
   "outputs": [
    {
     "name": "stdout",
     "output_type": "stream",
     "text": [
      "Variables in the current scope:\n",
      "\n",
      "   Attr Name        Size                     Bytes  Class\n",
      "   ==== ====        ====                     =====  ===== \n",
      "        X          20x2                        320  double\n",
      "\n",
      "Total is 40 elements using 320 bytes\n",
      "\n"
     ]
    }
   ],
   "source": [
    "% Load Data\n",
    "load x.mat\n",
    "whos"
   ]
  },
  {
   "cell_type": "markdown",
   "metadata": {},
   "source": [
    "### Manipulate Matrices and Vectors"
   ]
  },
  {
   "cell_type": "markdown",
   "metadata": {},
   "source": [
    "#### Subset a Vector"
   ]
  },
  {
   "cell_type": "code",
   "execution_count": 89,
   "metadata": {},
   "outputs": [
    {
     "name": "stdout",
     "output_type": "stream",
     "text": [
      "V =\n",
      "\n",
      "    1    2    3    4    5    6    7    8    9   10\n",
      "\n"
     ]
    }
   ],
   "source": [
    "V = 1:10"
   ]
  },
  {
   "cell_type": "code",
   "execution_count": 92,
   "metadata": {},
   "outputs": [
    {
     "name": "stdout",
     "output_type": "stream",
     "text": [
      "ans =  8\n"
     ]
    }
   ],
   "source": [
    "% Subset a Single Value\n",
    "V(8)"
   ]
  },
  {
   "cell_type": "code",
   "execution_count": 93,
   "metadata": {},
   "outputs": [
    {
     "name": "stdout",
     "output_type": "stream",
     "text": [
      "ans =\n",
      "\n",
      "   1   2   3   4   5\n",
      "\n"
     ]
    }
   ],
   "source": [
    "% Subset a Range of Values\n",
    "V(1:5)"
   ]
  },
  {
   "cell_type": "markdown",
   "metadata": {},
   "source": [
    "#### Subset a Matrix"
   ]
  },
  {
   "cell_type": "code",
   "execution_count": 91,
   "metadata": {},
   "outputs": [
    {
     "name": "stdout",
     "output_type": "stream",
     "text": [
      "A =\n",
      "\n",
      "   1   2\n",
      "   3   4\n",
      "   5   6\n",
      "\n"
     ]
    }
   ],
   "source": [
    "A = [1 2; 3 4; 5 6]"
   ]
  },
  {
   "cell_type": "code",
   "execution_count": 192,
   "metadata": {},
   "outputs": [
    {
     "name": "stdout",
     "output_type": "stream",
     "text": [
      "ans =  6\n"
     ]
    }
   ],
   "source": [
    "% Subset a Single Value\n",
    "A(3,2)"
   ]
  },
  {
   "cell_type": "code",
   "execution_count": 94,
   "metadata": {},
   "outputs": [
    {
     "name": "stdout",
     "output_type": "stream",
     "text": [
      "ans =\n",
      "\n",
      "   1   2\n",
      "\n",
      "ans =\n",
      "\n",
      "   2\n",
      "   4\n",
      "   6\n",
      "\n",
      "ans =\n",
      "\n",
      "   1   2\n",
      "   5   6\n",
      "\n"
     ]
    }
   ],
   "source": [
    "% Subset a Range of Values\n",
    "A(1,:)\n",
    "A(:,2)\n",
    "A([1 3], :)"
   ]
  },
  {
   "cell_type": "code",
   "execution_count": 95,
   "metadata": {},
   "outputs": [
    {
     "name": "stdout",
     "output_type": "stream",
     "text": [
      "ans =\n",
      "\n",
      "   1\n",
      "   3\n",
      "   5\n",
      "   2\n",
      "   4\n",
      "   6\n",
      "\n"
     ]
    }
   ],
   "source": [
    "% Flatten Matrix into Vector\n",
    "A(:)"
   ]
  },
  {
   "cell_type": "markdown",
   "metadata": {},
   "source": [
    "#### Manipulate a Matrix"
   ]
  },
  {
   "cell_type": "code",
   "execution_count": 96,
   "metadata": {},
   "outputs": [
    {
     "name": "stdout",
     "output_type": "stream",
     "text": [
      "A =\n",
      "\n",
      "    1   10\n",
      "    3   11\n",
      "    5   12\n",
      "\n"
     ]
    }
   ],
   "source": [
    "% Re-assign Column\n",
    "A(:,2) = [10;11;12]"
   ]
  },
  {
   "cell_type": "code",
   "execution_count": 97,
   "metadata": {},
   "outputs": [
    {
     "name": "stdout",
     "output_type": "stream",
     "text": [
      "A =\n",
      "\n",
      "     1    10   100\n",
      "     3    11   101\n",
      "     5    12   102\n",
      "\n",
      "A =\n",
      "\n",
      "     2     1    10   100\n",
      "     3     3    11   101\n",
      "     4     5    12   102\n",
      "\n"
     ]
    }
   ],
   "source": [
    "% Add a Column\n",
    "A = [A, [100; 101; 102]]\n",
    "A = [[2; 3; 4], A]"
   ]
  },
  {
   "cell_type": "code",
   "execution_count": 98,
   "metadata": {},
   "outputs": [
    {
     "name": "stdout",
     "output_type": "stream",
     "text": [
      "A =\n",
      "\n",
      "     2     1    10   100\n",
      "     3     3    11   101\n",
      "     4     5    12   102\n",
      "     9    10    11    12\n",
      "\n"
     ]
    }
   ],
   "source": [
    "% Add a Row\n",
    "A = [A; [9 10 11 12]]"
   ]
  },
  {
   "cell_type": "code",
   "execution_count": 99,
   "metadata": {},
   "outputs": [
    {
     "name": "stdout",
     "output_type": "stream",
     "text": [
      "B =\n",
      "\n",
      "   2\n",
      "   3\n",
      "   4\n",
      "   5\n",
      "\n",
      "C =\n",
      "\n",
      "     2     1    10   100     2\n",
      "     3     3    11   101     3\n",
      "     4     5    12   102     4\n",
      "     9    10    11    12     5\n",
      "\n"
     ]
    }
   ],
   "source": [
    "% Concat Two Matrix\n",
    "B = [2; 3; 4; 5]\n",
    "C = [A B]"
   ]
  },
  {
   "cell_type": "markdown",
   "metadata": {},
   "source": [
    "## Computing on Data"
   ]
  },
  {
   "cell_type": "code",
   "execution_count": 105,
   "metadata": {},
   "outputs": [
    {
     "name": "stdout",
     "output_type": "stream",
     "text": [
      "A =\n",
      "\n",
      "   1   2\n",
      "   3   4\n",
      "   5   6\n",
      "\n",
      "B =\n",
      "\n",
      "   11   12\n",
      "   13   14\n",
      "   15   16\n",
      "\n",
      "C =\n",
      "\n",
      "   1   1\n",
      "   2   2\n",
      "\n"
     ]
    }
   ],
   "source": [
    "A = [1 2; 3 4; 5 6]\n",
    "B = [11 12; 13 14; 15 16]\n",
    "C = [1 1; 2 2]"
   ]
  },
  {
   "cell_type": "code",
   "execution_count": 102,
   "metadata": {},
   "outputs": [
    {
     "name": "stdout",
     "output_type": "stream",
     "text": [
      "ans =\n",
      "\n",
      "    3\n",
      "    7\n",
      "   11\n",
      "\n",
      "ans =\n",
      "\n",
      "    5    5\n",
      "   11   11\n",
      "   17   17\n",
      "\n"
     ]
    }
   ],
   "source": [
    "% Matrix-Matrix Computation\n",
    "A * [1;1]\n",
    "A * C"
   ]
  },
  {
   "cell_type": "code",
   "execution_count": 106,
   "metadata": {},
   "outputs": [
    {
     "name": "stdout",
     "output_type": "stream",
     "text": [
      "v =\n",
      "\n",
      "   1\n",
      "   2\n",
      "   3\n",
      "\n"
     ]
    }
   ],
   "source": [
    "v = [1; 2; 3]"
   ]
  },
  {
   "cell_type": "code",
   "execution_count": 107,
   "metadata": {},
   "outputs": [
    {
     "name": "stdout",
     "output_type": "stream",
     "text": [
      "ans =\n",
      "\n",
      "   11   24\n",
      "   39   56\n",
      "   75   96\n",
      "\n",
      "ans =\n",
      "\n",
      "    1    4\n",
      "    9   16\n",
      "   25   36\n",
      "\n",
      "ans =\n",
      "\n",
      "   1.00000\n",
      "   0.50000\n",
      "   0.33333\n",
      "\n"
     ]
    }
   ],
   "source": [
    "% Element-Wise Computation\n",
    "A .* B \n",
    "A .^ 2\n",
    "1 ./ v"
   ]
  },
  {
   "cell_type": "code",
   "execution_count": 108,
   "metadata": {},
   "outputs": [
    {
     "name": "stdout",
     "output_type": "stream",
     "text": [
      "ans =\n",
      "\n",
      "   0.00000\n",
      "   0.69315\n",
      "   1.09861\n",
      "\n",
      "ans =\n",
      "\n",
      "    2.7183\n",
      "    7.3891\n",
      "   20.0855\n",
      "\n",
      "ans =\n",
      "\n",
      "   1\n",
      "   2\n",
      "   3\n",
      "\n",
      "ans =\n",
      "\n",
      "   1\n",
      "   2\n",
      "   3\n",
      "\n"
     ]
    }
   ],
   "source": [
    "% Element-Wise Computation\n",
    "log(v)\n",
    "exp(v)\n",
    "abs(v)\n",
    "abs([-1; 2; -3])"
   ]
  },
  {
   "cell_type": "code",
   "execution_count": 109,
   "metadata": {},
   "outputs": [
    {
     "name": "stdout",
     "output_type": "stream",
     "text": [
      "ans =\n",
      "\n",
      "  -1\n",
      "  -2\n",
      "  -3\n",
      "\n",
      "ans =\n",
      "\n",
      "   2\n",
      "   3\n",
      "   4\n",
      "\n",
      "ans =\n",
      "\n",
      "   2\n",
      "   3\n",
      "   4\n",
      "\n"
     ]
    }
   ],
   "source": [
    "% Element-Wise Computation\n",
    "-v\n",
    "v + ones(length(v), 1)\n",
    "v + 1"
   ]
  },
  {
   "cell_type": "code",
   "execution_count": 214,
   "metadata": {},
   "outputs": [
    {
     "name": "stdout",
     "output_type": "stream",
     "text": [
      "A =\n",
      "\n",
      "   1   2\n",
      "   3   4\n",
      "   5   6\n",
      "\n",
      "ans =\n",
      "\n",
      "   1   3   5\n",
      "   2   4   6\n",
      "\n",
      "ans =\n",
      "\n",
      "   1   2\n",
      "   3   4\n",
      "   5   6\n",
      "\n"
     ]
    }
   ],
   "source": [
    "% Transpose a Matrix\n",
    "A\n",
    "A'\n",
    "(A')'"
   ]
  },
  {
   "cell_type": "code",
   "execution_count": 111,
   "metadata": {},
   "outputs": [
    {
     "name": "stdout",
     "output_type": "stream",
     "text": [
      "a =\n",
      "\n",
      "    1.00000   15.00000    2.00000    0.50000\n",
      "\n"
     ]
    }
   ],
   "source": [
    "a = [1 15 2 0.5]"
   ]
  },
  {
   "cell_type": "code",
   "execution_count": 112,
   "metadata": {},
   "outputs": [
    {
     "name": "stdout",
     "output_type": "stream",
     "text": [
      "val =  15\n",
      "val =  15\n",
      "ind =  2\n"
     ]
    }
   ],
   "source": [
    "% Vector Max Value\n",
    "val = max(a)\n",
    "[val, ind] = max(a)"
   ]
  },
  {
   "cell_type": "code",
   "execution_count": 113,
   "metadata": {},
   "outputs": [
    {
     "name": "stdout",
     "output_type": "stream",
     "text": [
      "A =\n",
      "\n",
      "   1   2\n",
      "   3   4\n",
      "   5   6\n",
      "\n",
      "ans =\n",
      "\n",
      "   5   6\n",
      "\n"
     ]
    }
   ],
   "source": [
    "% Matrix Max Value\n",
    "A\n",
    "max(A) "
   ]
  },
  {
   "cell_type": "code",
   "execution_count": 114,
   "metadata": {},
   "outputs": [
    {
     "name": "stdout",
     "output_type": "stream",
     "text": [
      "a =\n",
      "\n",
      "    1.00000   15.00000    2.00000    0.50000\n",
      "\n",
      "ans =\n",
      "\n",
      "  1  0  1  1\n",
      "\n",
      "ans =\n",
      "\n",
      "   1   3   4\n",
      "\n"
     ]
    }
   ],
   "source": [
    "% Find Index for a Vector\n",
    "a\n",
    "a < 3\n",
    "find(a < 3)"
   ]
  },
  {
   "cell_type": "code",
   "execution_count": 115,
   "metadata": {},
   "outputs": [
    {
     "name": "stdout",
     "output_type": "stream",
     "text": [
      "A =\n",
      "\n",
      "   8   1   6\n",
      "   3   5   7\n",
      "   4   9   2\n",
      "\n",
      "r =\n",
      "\n",
      "   1\n",
      "   3\n",
      "   2\n",
      "\n",
      "c =\n",
      "\n",
      "   1\n",
      "   2\n",
      "   3\n",
      "\n"
     ]
    }
   ],
   "source": [
    "% Find Index for a Matrix\n",
    "A = magic(3)\n",
    "[r,c] = find(A >= 7)"
   ]
  },
  {
   "cell_type": "code",
   "execution_count": 222,
   "metadata": {},
   "outputs": [
    {
     "name": "stdout",
     "output_type": "stream",
     "text": [
      "a =\n",
      "\n",
      "    1.00000   15.00000    2.00000    0.50000\n",
      "\n",
      "ans =  18.500\n",
      "ans =  15\n",
      "ans =\n",
      "\n",
      "    1   15    2    0\n",
      "\n",
      "ans =\n",
      "\n",
      "    1   15    2    1\n",
      "\n"
     ]
    }
   ],
   "source": [
    "% More Operations\n",
    "a\n",
    "sum(a)\n",
    "prod(a)\n",
    "floor(a)\n",
    "ceil(a)"
   ]
  },
  {
   "cell_type": "code",
   "execution_count": 116,
   "metadata": {},
   "outputs": [
    {
     "name": "stdout",
     "output_type": "stream",
     "text": [
      "ans =\n",
      "\n",
      "   0.544685   0.429975   0.294695\n",
      "   0.831997   0.233357   0.068577\n",
      "   0.722203   0.614088   0.324429\n",
      "\n",
      "ans =\n",
      "\n",
      "   0.55654   0.70494   0.91294\n",
      "   0.90374   0.83178   0.54477\n",
      "   0.93869   0.98272   0.76583\n",
      "\n",
      "A =\n",
      "\n",
      "   8   1   6\n",
      "   3   5   7\n",
      "   4   9   2\n",
      "\n",
      "ans =\n",
      "\n",
      "   8   9   7\n",
      "\n",
      "ans =\n",
      "\n",
      "   8   9   7\n",
      "\n",
      "ans =\n",
      "\n",
      "   8\n",
      "   7\n",
      "   9\n",
      "\n",
      "ans =  9\n",
      "ans =  9\n"
     ]
    }
   ],
   "source": [
    "% Max Value of a Matrix\n",
    "rand(3)\n",
    "max(rand(3), rand(3))\n",
    "\n",
    "A\n",
    "max(A)\n",
    "max(A,[],1)\n",
    "max(A,[],2)\n",
    "max(max(A))\n",
    "max(A(:))"
   ]
  },
  {
   "cell_type": "code",
   "execution_count": 118,
   "metadata": {},
   "outputs": [
    {
     "name": "stdout",
     "output_type": "stream",
     "text": [
      "A =\n",
      "\n",
      "   47   58   69   80    1   12   23   34   45\n",
      "   57   68   79    9   11   22   33   44   46\n",
      "   67   78    8   10   21   32   43   54   56\n",
      "   77    7   18   20   31   42   53   55   66\n",
      "    6   17   19   30   41   52   63   65   76\n",
      "   16   27   29   40   51   62   64   75    5\n",
      "   26   28   39   50   61   72   74    4   15\n",
      "   36   38   49   60   71   73    3   14   25\n",
      "   37   48   59   70   81    2   13   24   35\n",
      "\n",
      "ans =\n",
      "\n",
      "   369   369   369   369   369   369   369   369   369\n",
      "\n",
      "ans =\n",
      "\n",
      "   369\n",
      "   369\n",
      "   369\n",
      "   369\n",
      "   369\n",
      "   369\n",
      "   369\n",
      "   369\n",
      "   369\n",
      "\n"
     ]
    }
   ],
   "source": [
    "% Sum Values of a Matrix\n",
    "A = magic(9)\n",
    "sum(A,1)\n",
    "sum(A,2)"
   ]
  },
  {
   "cell_type": "code",
   "execution_count": 119,
   "metadata": {},
   "outputs": [
    {
     "name": "stdout",
     "output_type": "stream",
     "text": [
      "ans =\n",
      "\n",
      "Diagonal Matrix\n",
      "\n",
      "   1   0   0   0   0   0   0   0   0\n",
      "   0   1   0   0   0   0   0   0   0\n",
      "   0   0   1   0   0   0   0   0   0\n",
      "   0   0   0   1   0   0   0   0   0\n",
      "   0   0   0   0   1   0   0   0   0\n",
      "   0   0   0   0   0   1   0   0   0\n",
      "   0   0   0   0   0   0   1   0   0\n",
      "   0   0   0   0   0   0   0   1   0\n",
      "   0   0   0   0   0   0   0   0   1\n",
      "\n",
      "ans =\n",
      "\n",
      "   47    0    0    0    0    0    0    0    0\n",
      "    0   68    0    0    0    0    0    0    0\n",
      "    0    0    8    0    0    0    0    0    0\n",
      "    0    0    0   20    0    0    0    0    0\n",
      "    0    0    0    0   41    0    0    0    0\n",
      "    0    0    0    0    0   62    0    0    0\n",
      "    0    0    0    0    0    0   74    0    0\n",
      "    0    0    0    0    0    0    0   14    0\n",
      "    0    0    0    0    0    0    0    0   35\n",
      "\n",
      "ans =  369\n",
      "ans =  369\n"
     ]
    }
   ],
   "source": [
    "% Sum Values of a Matrix\n",
    "eye(9)\n",
    "A .* eye(9)\n",
    "sum(sum(A .* eye(9)))\n",
    "sum(sum(A.*flipud(eye(9))))"
   ]
  },
  {
   "cell_type": "code",
   "execution_count": 120,
   "metadata": {},
   "outputs": [
    {
     "name": "stdout",
     "output_type": "stream",
     "text": [
      "A =\n",
      "\n",
      "   8   1   6\n",
      "   3   5   7\n",
      "   4   9   2\n",
      "\n",
      "ans =\n",
      "\n",
      "   0.147222  -0.144444   0.063889\n",
      "  -0.061111   0.022222   0.105556\n",
      "  -0.019444   0.188889  -0.102778\n",
      "\n",
      "temp =\n",
      "\n",
      "   0.147222  -0.144444   0.063889\n",
      "  -0.061111   0.022222   0.105556\n",
      "  -0.019444   0.188889  -0.102778\n",
      "\n",
      "ans =\n",
      "\n",
      "   1.0000e+00   2.0817e-16  -3.1641e-15\n",
      "  -6.1062e-15   1.0000e+00   6.2450e-15\n",
      "   3.0531e-15   4.1633e-17   1.0000e+00\n",
      "\n"
     ]
    }
   ],
   "source": [
    "% Inverse of a Matrix\n",
    "A = magic(3)\n",
    "pinv(A)\n",
    "temp = pinv(A)\n",
    "temp * A"
   ]
  },
  {
   "cell_type": "markdown",
   "metadata": {},
   "source": [
    "## Plotting Data"
   ]
  },
  {
   "cell_type": "code",
   "execution_count": 122,
   "metadata": {},
   "outputs": [],
   "source": [
    "t = [0:0.01:0.98];\n",
    "y1 = sin(2*pi*4*t);\n",
    "y2 = cos(2*pi*4*t);"
   ]
  },
  {
   "cell_type": "code",
   "execution_count": 124,
   "metadata": {},
   "outputs": [
    {
     "data": {
      "image/png": "[encoded data removed]",
      "text/plain": [
       "<IPython.core.display.Image object>"
      ]
     },
     "metadata": {},
     "output_type": "display_data"
    }
   ],
   "source": [
    "% Simple Plot\n",
    "plot(t,y1)"
   ]
  },
  {
   "cell_type": "code",
   "execution_count": 14,
   "metadata": {},
   "outputs": [
    {
     "data": {
      "image/png": "[encoded data removed]",
      "text/plain": [
       "<IPython.core.display.Image object>"
      ]
     },
     "metadata": {},
     "output_type": "display_data"
    }
   ],
   "source": [
    "% More Options for Plotting\n",
    "plot(t,y1)\n",
    "hold on\n",
    "plot(t,y2,'r')\n",
    "hold on\n",
    "xlabel('time')\n",
    "ylabel('value')\n",
    "legend('sin','cos')\n",
    "title('my plot')\n",
    "% print -dpng 'my_plot.png'\n",
    "% close"
   ]
  },
  {
   "cell_type": "code",
   "execution_count": 16,
   "metadata": {},
   "outputs": [
    {
     "data": {
      "image/png": "[encoded data removed]",
      "text/plain": [
       "<IPython.core.display.Image object>"
      ]
     },
     "metadata": {},
     "output_type": "display_data"
    },
    {
     "data": {
      "image/png": "[encoded data removed]",
      "text/plain": [
       "<IPython.core.display.Image object>"
      ]
     },
     "metadata": {},
     "output_type": "display_data"
    }
   ],
   "source": [
    "% Show More Figures\n",
    "figure(1); plot(t,y1);\n",
    "figure(2); plot(t,y1);"
   ]
  },
  {
   "cell_type": "code",
   "execution_count": 22,
   "metadata": {},
   "outputs": [
    {
     "data": {
      "image/png": "[encoded data removed]",
      "text/plain": [
       "<IPython.core.display.Image object>"
      ]
     },
     "metadata": {},
     "output_type": "display_data"
    }
   ],
   "source": [
    "% Subplots\n",
    "subplot(1,2,1)\n",
    "plot(t,y1)\n",
    "subplot(1,2,2)\n",
    "plot(t,y2,'r')\n",
    "axis([0.5 1 -1 1])\n",
    "% clf"
   ]
  },
  {
   "cell_type": "code",
   "execution_count": 23,
   "metadata": {},
   "outputs": [
    {
     "name": "stdout",
     "output_type": "stream",
     "text": [
      "A =\n",
      "\n",
      "   17   24    1    8   15\n",
      "   23    5    7   14   16\n",
      "    4    6   13   20   22\n",
      "   10   12   19   21    3\n",
      "   11   18   25    2    9\n",
      "\n"
     ]
    },
    {
     "data": {
      "image/png": "[encoded data removed]",
      "text/plain": [
       "<IPython.core.display.Image object>"
      ]
     },
     "metadata": {},
     "output_type": "display_data"
    }
   ],
   "source": [
    "% Colormap\n",
    "A = magic(5)\n",
    "imagesc(A)"
   ]
  },
  {
   "cell_type": "code",
   "execution_count": 24,
   "metadata": {},
   "outputs": [
    {
     "data": {
      "image/png": "[encoded data removed]",
      "text/plain": [
       "<IPython.core.display.Image object>"
      ]
     },
     "metadata": {},
     "output_type": "display_data"
    }
   ],
   "source": [
    "% Options for Colormap\n",
    "imagesc(A), colorbar, colormap gray"
   ]
  },
  {
   "cell_type": "code",
   "execution_count": 26,
   "metadata": {},
   "outputs": [
    {
     "name": "stdout",
     "output_type": "stream",
     "text": [
      "a =  1\n",
      "b =  2\n",
      "c =  3\n"
     ]
    }
   ],
   "source": [
    "% Chains of Commands\n",
    "a=1, b=2, c=3\n",
    "\n",
    "a=1; b=2; c=3;\n",
    "a\n",
    "b\n",
    "c"
   ]
  },
  {
   "cell_type": "markdown",
   "metadata": {},
   "source": [
    "## Control Statements"
   ]
  },
  {
   "cell_type": "markdown",
   "metadata": {},
   "source": [
    "### For Loop"
   ]
  },
  {
   "cell_type": "code",
   "execution_count": 125,
   "metadata": {},
   "outputs": [
    {
     "name": "stdout",
     "output_type": "stream",
     "text": [
      "v =\n",
      "\n",
      "   0\n",
      "   0\n",
      "   0\n",
      "   0\n",
      "   0\n",
      "   0\n",
      "   0\n",
      "   0\n",
      "   0\n",
      "   0\n",
      "\n"
     ]
    }
   ],
   "source": [
    "v = zeros(10,1)"
   ]
  },
  {
   "cell_type": "code",
   "execution_count": 126,
   "metadata": {},
   "outputs": [],
   "source": [
    "% For Loop\n",
    "for i=1:10,\n",
    "    v(i) = 2^i;\n",
    "end;"
   ]
  },
  {
   "cell_type": "code",
   "execution_count": 127,
   "metadata": {},
   "outputs": [
    {
     "name": "stdout",
     "output_type": "stream",
     "text": [
      "v =\n",
      "\n",
      "      2\n",
      "      4\n",
      "      8\n",
      "     16\n",
      "     32\n",
      "     64\n",
      "    128\n",
      "    256\n",
      "    512\n",
      "   1024\n",
      "\n"
     ]
    }
   ],
   "source": [
    "v"
   ]
  },
  {
   "cell_type": "code",
   "execution_count": 41,
   "metadata": {},
   "outputs": [
    {
     "name": "stdout",
     "output_type": "stream",
     "text": [
      " 1\n",
      " 2\n",
      " 3\n",
      " 4\n",
      " 5\n",
      " 6\n",
      " 7\n",
      " 8\n",
      " 9\n",
      " 10\n"
     ]
    }
   ],
   "source": [
    "% For Loop\n",
    "indices=1:10;\n",
    "for i=indices,\n",
    "    disp(i);\n",
    "end;"
   ]
  },
  {
   "cell_type": "markdown",
   "metadata": {},
   "source": [
    "### While Loop"
   ]
  },
  {
   "cell_type": "code",
   "execution_count": 128,
   "metadata": {},
   "outputs": [
    {
     "name": "stdout",
     "output_type": "stream",
     "text": [
      "v =\n",
      "\n",
      "      2\n",
      "      4\n",
      "      8\n",
      "     16\n",
      "     32\n",
      "     64\n",
      "    128\n",
      "    256\n",
      "    512\n",
      "   1024\n",
      "\n"
     ]
    }
   ],
   "source": [
    "v"
   ]
  },
  {
   "cell_type": "code",
   "execution_count": 129,
   "metadata": {},
   "outputs": [],
   "source": [
    "% While Loop\n",
    "i = 1;\n",
    "while i <= 5,\n",
    "    v(i) = 100;\n",
    "    i = i+1;\n",
    "end;"
   ]
  },
  {
   "cell_type": "code",
   "execution_count": 130,
   "metadata": {},
   "outputs": [],
   "source": [
    "% Breaks\n",
    "i = 1;\n",
    "while true,\n",
    "    v(i) = 999;\n",
    "    i = i+1;\n",
    "    if i==6,\n",
    "        break;\n",
    "    end;\n",
    "end;"
   ]
  },
  {
   "cell_type": "code",
   "execution_count": 131,
   "metadata": {},
   "outputs": [
    {
     "name": "stdout",
     "output_type": "stream",
     "text": [
      "v =\n",
      "\n",
      "    999\n",
      "    999\n",
      "    999\n",
      "    999\n",
      "    999\n",
      "     64\n",
      "    128\n",
      "    256\n",
      "    512\n",
      "   1024\n",
      "\n"
     ]
    }
   ],
   "source": [
    "v"
   ]
  },
  {
   "cell_type": "markdown",
   "metadata": {},
   "source": [
    "### If Statement"
   ]
  },
  {
   "cell_type": "code",
   "execution_count": 45,
   "metadata": {},
   "outputs": [
    {
     "name": "stdout",
     "output_type": "stream",
     "text": [
      "ans =  999\n",
      "The value is two\n"
     ]
    }
   ],
   "source": [
    "% If Statements\n",
    "v(1) = 2;\n",
    "if v(1)==1,\n",
    "    disp('The value is one');\n",
    "elseif v(1)==2,\n",
    "    disp('The value is two');\n",
    "else \n",
    "    disp('THe value is not one or two.');\n",
    "end;"
   ]
  },
  {
   "cell_type": "markdown",
   "metadata": {},
   "source": [
    "### Functions"
   ]
  },
  {
   "cell_type": "code",
   "execution_count": 150,
   "metadata": {},
   "outputs": [],
   "source": [
    "% Define In-line Function\n",
    "function y = addOne(x)\n",
    "    y = x + 1\n",
    "endfunction"
   ]
  },
  {
   "cell_type": "code",
   "execution_count": 151,
   "metadata": {},
   "outputs": [
    {
     "name": "stdout",
     "output_type": "stream",
     "text": [
      "y =  2\n",
      "ans =  2\n"
     ]
    }
   ],
   "source": [
    "% Call In-line Function\n",
    "addOne(1)"
   ]
  },
  {
   "cell_type": "code",
   "execution_count": 148,
   "metadata": {},
   "outputs": [
    {
     "name": "stdout",
     "output_type": "stream",
     "text": [
      "ans =  4\n",
      "a =  25\n",
      "b =  125\n"
     ]
    }
   ],
   "source": [
    "% Call a Function Defined from *.m\n",
    "\n",
    "% Function with Single Output\n",
    "squareThisNumber(2)\n",
    "\n",
    "% Function with More Outputs\n",
    "[a, b] = squareAndCubeThisNumber(5)"
   ]
  },
  {
   "cell_type": "code",
   "execution_count": 167,
   "metadata": {},
   "outputs": [],
   "source": [
    "% Define a Cost Function J\n",
    "\n",
    "function J = costFunctionJ(X, y, theta)\n",
    "\n",
    "% X is the \"design matrix\" containing our training examples.\n",
    "% y is the class labels.\n",
    "\n",
    "m = size(X,1);   % number of training examples\n",
    "predictions = X*theta;   % predictions of hypothesis on all m examples\n",
    "sqrErrors = (predictions-y).^2;   % squared errors\n",
    "\n",
    "J = 1/(2*m) * sum(sqrErrors);\n",
    "\n",
    "endfunction"
   ]
  },
  {
   "cell_type": "code",
   "execution_count": 171,
   "metadata": {},
   "outputs": [
    {
     "name": "stdout",
     "output_type": "stream",
     "text": [
      "X =\n",
      "\n",
      "   1   1\n",
      "   1   2\n",
      "   1   3\n",
      "\n",
      "y =\n",
      "\n",
      "   1\n",
      "   2\n",
      "   3\n",
      "\n",
      "theta =\n",
      "\n",
      "   0\n",
      "   1\n",
      "\n",
      "j = 0\n",
      "theta =\n",
      "\n",
      "   0\n",
      "   0\n",
      "\n",
      "j =  2.3333\n"
     ]
    }
   ],
   "source": [
    "% Call the Cost Function J\n",
    "X = [1 1; 1 2; 1 3]\n",
    "y = [1; 2; 3]\n",
    "\n",
    "theta = [0;1]\n",
    "j = costFunctionJ(X,y,theta)\n",
    "\n",
    "theta = [0;0]\n",
    "j = costFunctionJ(X,y,theta)"
   ]
  }
 ],
 "metadata": {
  "kernelspec": {
   "display_name": "Octave",
   "language": "octave",
   "name": "octave"
  },
  "language_info": {
   "file_extension": ".m",
   "help_links": [
    {
     "text": "GNU Octave",
     "url": "https://www.gnu.org/software/octave/support.html"
    },
    {
     "text": "Octave Kernel",
     "url": "https://github.com/Calysto/octave_kernel"
    },
    {
     "text": "MetaKernel Magics",
     "url": "https://metakernel.readthedocs.io/en/latest/source/README.html"
    }
   ],
   "mimetype": "text/x-octave",
   "name": "octave",
   "version": "5.1.0"
  }
 },
 "nbformat": 4,
 "nbformat_minor": 2
}
